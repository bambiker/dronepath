{
  "metadata": {
    "kernelspec": {
      "name": "python",
      "display_name": "Python (Pyodide)",
      "language": "python"
    },
    "language_info": {
      "codemirror_mode": {
        "name": "python",
        "version": 3
      },
      "file_extension": ".py",
      "mimetype": "text/x-python",
      "name": "python",
      "nbconvert_exporter": "python",
      "pygments_lexer": "ipython3",
      "version": "3.8"
    }
  },
  "nbformat_minor": 4,
  "nbformat": 4,
  "cells": [
    {
      "cell_type": "code",
      "source": "import numpy as np\nfrom random import randint\nNX = 100\nNY = 100\nNZ = 15\ndx = 100\ndy = 100\ndz = 10\nnod = 10 # number of drones\ndomain = np.zeros([NX, NY,NZ])\nprint (domain.shape)\ndrones=[]\nfor i in range(nod):\n    drones.append(drone(x = randint(1, NX),y = randint(1, NY), speed = randint(1, 10)))\n    print(i, drones[i].getlocation())\n",
      "metadata": {
        "trusted": true
      },
      "outputs": [
        {
          "name": "stdout",
          "text": "(100, 100, 15)\n0 (71, 77, 4)\n1 (54, 43, 3)\n2 (76, 41, 3)\n3 (22, 40, 3)\n4 (23, 23, 1)\n5 (32, 53, 7)\n6 (29, 65, 10)\n7 (43, 82, 10)\n8 (28, 5, 8)\n9 (22, 17, 2)\n",
          "output_type": "stream"
        }
      ],
      "execution_count": 26
    },
    {
      "cell_type": "code",
      "source": "class drone:\n  def __init__(self,  x,  y, speed):\n    self.speed = speed\n    self.currentx = x\n    self.currenty = y\n    self.currentz = 0\n    self.tox = 0\n    self.toy = 0\n      \n\n  def getlocation(self):\n      return self.currentx, self.currenty, self.speed\n\n\n  def myfunc(self):\n    print(\"Hello my speed is \" + str(self.speed))\n\np1 = drone(x = 34, y = 65, speed = 4)\np1.myfunc()",
      "metadata": {
        "trusted": true
      },
      "outputs": [
        {
          "name": "stdout",
          "text": "Hello my speed is 4\n",
          "output_type": "stream"
        }
      ],
      "execution_count": 24
    },
    {
      "cell_type": "code",
      "source": "",
      "metadata": {
        "trusted": true
      },
      "outputs": [],
      "execution_count": null
    }
  ]
}