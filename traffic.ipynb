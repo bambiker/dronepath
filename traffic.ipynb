{
  "metadata": {
    "kernelspec": {
      "name": "python",
      "display_name": "Python (Pyodide)",
      "language": "python"
    },
    "language_info": {
      "codemirror_mode": {
        "name": "python",
        "version": 3
      },
      "file_extension": ".py",
      "mimetype": "text/x-python",
      "name": "python",
      "nbconvert_exporter": "python",
      "pygments_lexer": "ipython3",
      "version": "3.8"
    }
  },
  "nbformat_minor": 4,
  "nbformat": 4,
  "cells": [
    {
      "cell_type": "markdown",
      "source": "# Preparing the domain #",
      "metadata": {}
    },
    {
      "cell_type": "code",
      "source": "import numpy as np\nfrom random import randint\nNX = 100\nNY = 100\nNZ = 15\ndx = 100\ndy = 100\ndz = 10\nnod = 10 # number of drones\ndomain = np.zeros([NX, NY,NZ])\ndrones=[]\nfor i in range(nod):\n    drones.append(drone(x = randint(1, NX), y = randint(1, NY), tox = randint(1, NX), toy = randint(1, NY), speed = randint(1, 10)))\n    print(i, drones[i].getlocation())\n",
      "metadata": {
        "trusted": true
      },
      "outputs": [
        {
          "name": "stdout",
          "text": "0 (88, 33, ' >>> ', 89, 86, ' @ ', 8)\n1 (80, 57, ' >>> ', 58, 33, ' @ ', 10)\n2 (67, 94, ' >>> ', 98, 40, ' @ ', 2)\n3 (72, 16, ' >>> ', 43, 30, ' @ ', 5)\n4 (22, 85, ' >>> ', 42, 40, ' @ ', 4)\n5 (93, 94, ' >>> ', 31, 35, ' @ ', 8)\n6 (35, 77, ' >>> ', 24, 16, ' @ ', 4)\n7 (47, 22, ' >>> ', 77, 58, ' @ ', 9)\n8 (14, 8, ' >>> ', 31, 43, ' @ ', 4)\n9 (75, 6, ' >>> ', 81, 40, ' @ ', 10)\n",
          "output_type": "stream"
        }
      ],
      "execution_count": 41
    },
    {
      "cell_type": "markdown",
      "source": "## drone class ##",
      "metadata": {}
    },
    {
      "cell_type": "code",
      "source": "class drone:\n  def __init__(self,  x,  y, tox, toy, speed):\n    self.speed = speed\n    self.currentx = x\n    self.currenty = y\n    self.currentz = 0\n    self.tox = tox\n    self.toy = toy\n      \n\n  def getlocation(self):\n      return self.currentx, self.currenty, ' >>> ',self.tox, self.toy ,' @ ', self.speed\n\n\n  def myfunc(self):\n    print(\"Hello my speed is \" + str(self.speed))\n\np1 = drone(x = 34, y = 65, tox = 89, toy = 23, speed = 4)\np1.myfunc()",
      "metadata": {
        "trusted": true
      },
      "outputs": [
        {
          "name": "stdout",
          "text": "Hello my speed is 4\n",
          "output_type": "stream"
        }
      ],
      "execution_count": 40
    },
    {
      "cell_type": "markdown",
      "source": "## Is anyone still need to fly? ## ",
      "metadata": {}
    },
    {
      "cell_type": "code",
      "source": "def sia(drones): # check of some is in air\n    \n     state = False\n     for i in range (len(drones)):\n        if (drones[i].currentx == drones[i].tox) and (drones[i].currenty == drones[i].toy):\n            state = True\n     return state\n    ",
      "metadata": {
        "trusted": true
      },
      "outputs": [],
      "execution_count": 38
    },
    {
      "cell_type": "markdown",
      "source": "## drone life loop ##",
      "metadata": {}
    },
    {
      "cell_type": "code",
      "source": "state = sia(drones)\nprint (state)",
      "metadata": {
        "trusted": true
      },
      "outputs": [
        {
          "name": "stdout",
          "text": "False\n",
          "output_type": "stream"
        }
      ],
      "execution_count": 39
    },
    {
      "cell_type": "code",
      "source": "",
      "metadata": {
        "trusted": true
      },
      "outputs": [],
      "execution_count": null
    }
  ]
}